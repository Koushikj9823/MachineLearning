{
 "cells": [
  {
   "cell_type": "markdown",
   "metadata": {},
   "source": [
    "# Assignment - Logistic Regression\n"
   ]
  },
  {
   "cell_type": "markdown",
   "metadata": {},
   "source": [
    "We hope this assignment gives you some idea on what logistic regression is. So let's get started..."
   ]
  },
  {
   "cell_type": "markdown",
   "metadata": {},
   "source": [
    "### Importing libraries\n",
    "\n",
    "Let us import some basic libraries that we would need to code this up. <br/>\n",
    "Just run the cell below, and you'll be good to go"
   ]
  },
  {
   "cell_type": "code",
   "execution_count": 1,
   "metadata": {
    "collapsed": true
   },
   "outputs": [],
   "source": [
    "import pandas as pd\n",
    "import numpy as np\n",
    "import matplotlib.pyplot as plt\n",
    "%matplotlib inline"
   ]
  },
  {
   "cell_type": "markdown",
   "metadata": {},
   "source": [
    "### Initialize parameters:\n",
    "\n",
    "Before we start with logistic regression we want to initialize our parameters W and b.<br/>\n",
    "Complete the below code<br/>\n",
    "**Hint: ** Use np.zeros(shape) - shape is a tuple"
   ]
  },
  {
   "cell_type": "code",
   "execution_count": 2,
   "metadata": {
    "collapsed": true
   },
   "outputs": [],
   "source": [
    "def initialize_params(X):\n",
    "    '''\n",
    "    This method is to initialize the parameters W and b.\n",
    "    You might want to use X.shape for this\n",
    "    Input: X training samples with shape (n,m)\n",
    "    Output: W-set of weights (1,n), and b-bias (real number) both initialized to zeros\n",
    "    '''\n",
    "    # complete the following lines\n",
    "    n,m = X.shape  \n",
    "    W = np.zeros((1,n))\n",
    "    b = 0\n",
    "    \n",
    "    return (W,b)   "
   ]
  },
  {
   "cell_type": "markdown",
   "metadata": {},
   "source": [
    "Run the below cell to check if you've got it right.<br/>\n"
   ]
  },
  {
   "cell_type": "code",
   "execution_count": 3,
   "metadata": {
    "scrolled": false
   },
   "outputs": [
    {
     "name": "stdout",
     "output_type": "stream",
     "text": [
      "W =  [[ 0.  0.]]\n",
      "b =  0\n"
     ]
    }
   ],
   "source": [
    "X = np.random.randn(2,100)\n",
    "W,b = initialize_params(X)\n",
    "print('W = ', W)\n",
    "print('b = ',b)"
   ]
  },
  {
   "cell_type": "raw",
   "metadata": {},
   "source": [
    "You must get\n",
    "W = [[0. 0.]]\n",
    "b = 0"
   ]
  },
  {
   "cell_type": "markdown",
   "metadata": {},
   "source": [
    "### Sigmoid activation\n",
    "\n",
    "Our logistic regression uses sigmoid function. So let's complete this function."
   ]
  },
  {
   "cell_type": "markdown",
   "metadata": {},
   "source": [
    "#### ***NOTE***\n",
    "The formula of sigmoid function is as follows:\n",
    "\n",
    "$$\n",
    "    \\sigma (z) = 1 / 1 + pow(e,-z)\n",
    "$$\n",
    "**Hint:** Use np.exp()"
   ]
  },
  {
   "cell_type": "code",
   "execution_count": 4,
   "metadata": {
    "collapsed": true
   },
   "outputs": [],
   "source": [
    "def sigmoid(Z):\n",
    "    '''\n",
    "    In this method you implement sigmoid function.\n",
    "    Input: Z is an numpy array or any real number\n",
    "    Output: sigmoid(z), the formula is shown above\n",
    "    '''\n",
    "    #Complete the following lines\n",
    "    sigmoid = None\n",
    "    return 1/(1+np.exp(-Z))"
   ]
  },
  {
   "cell_type": "markdown",
   "metadata": {},
   "source": [
    "Run the below code to check if you've got it right."
   ]
  },
  {
   "cell_type": "code",
   "execution_count": 5,
   "metadata": {},
   "outputs": [
    {
     "name": "stdout",
     "output_type": "stream",
     "text": [
      "Sigmoid(Z1):  [  4.53978687e-05   1.23394576e-04   3.35350130e-04   9.11051194e-04\n",
      "   2.47262316e-03   6.69285092e-03   1.79862100e-02   4.74258732e-02\n",
      "   1.19202922e-01   2.68941421e-01   5.00000000e-01   7.31058579e-01\n",
      "   8.80797078e-01   9.52574127e-01   9.82013790e-01   9.93307149e-01\n",
      "   9.97527377e-01   9.99088949e-01   9.99664650e-01   9.99876605e-01]\n",
      "Sigmoid(Z2):  0.999999999967\n"
     ]
    }
   ],
   "source": [
    "Z1 = np.array([i for i in range(-10,10)])\n",
    "Z2 = 24.12\n",
    "print('Sigmoid(Z1): ',sigmoid(Z1))\n",
    "print('Sigmoid(Z2): ',sigmoid(Z2))"
   ]
  },
  {
   "cell_type": "raw",
   "metadata": {},
   "source": [
    "You must get:\n",
    "Sigmoid(Z1):  [  4.53978687e-05   1.23394576e-04   3.35350130e-04   9.11051194e-04\n",
    "   2.47262316e-03   6.69285092e-03   1.79862100e-02   4.74258732e-02\n",
    "   1.19202922e-01   2.68941421e-01   5.00000000e-01   7.31058579e-01\n",
    "   8.80797078e-01   9.52574127e-01   9.82013790e-01   9.93307149e-01\n",
    "   9.97527377e-01   9.99088949e-01   9.99664650e-01   9.99876605e-01]\n",
    "Sigmoid(Z2):  0.999999999967"
   ]
  },
  {
   "cell_type": "markdown",
   "metadata": {},
   "source": [
    "Let us visualize what you have coded.."
   ]
  },
  {
   "cell_type": "code",
   "execution_count": 6,
   "metadata": {},
   "outputs": [
    {
     "data": {
      "text/plain": [
       "[<matplotlib.lines.Line2D at 0xd5ecea3d68>]"
      ]
     },
     "execution_count": 6,
     "metadata": {},
     "output_type": "execute_result"
    },
    {
     "data": {
      "image/png": "[encoded data removed]",
      "text/plain": [
       "<matplotlib.figure.Figure at 0xd5ecdf7780>"
      ]
     },
     "metadata": {},
     "output_type": "display_data"
    }
   ],
   "source": [
    "z = np.array([i/10 for i in range(-100,101)])\n",
    "plt.plot(z,sigmoid(z))"
   ]
  },
  {
   "cell_type": "markdown",
   "metadata": {},
   "source": [
    "### Forward Propagation\n",
    "\n",
    "Remember in forward propagation we compute Z and A. <br/>\n",
    "Complete the following function.<br/>\n",
    "\n",
    "**Hint:** Use np.dot() for matrix multiplication"
   ]
  },
  {
   "cell_type": "code",
   "execution_count": 7,
   "metadata": {
    "collapsed": true
   },
   "outputs": [],
   "source": [
    "def forward_prop(X,W,b):\n",
    "    '''\n",
    "    This method performs forward propagation that was taught with respect to computation graph.\n",
    "    Input: X (n,m) matrix, W (1,n) weights, b (real number) bias\n",
    "    Output: Z = WX+b, A = sigmoid(Z)\n",
    "    Hint: use the sigmoid function you already coded.\n",
    "    '''\n",
    "    #Complete the following lines\n",
    "    Z = np.dot(W,X)+b\n",
    "    A = sigmoid(Z)\n",
    "    \n",
    "    forward_cache = (A,Z)\n",
    "    return forward_cache\n",
    "    "
   ]
  },
  {
   "cell_type": "markdown",
   "metadata": {},
   "source": [
    "Run the cell below to check if you've got it right."
   ]
  },
  {
   "cell_type": "code",
   "execution_count": 8,
   "metadata": {},
   "outputs": [
    {
     "name": "stdout",
     "output_type": "stream",
     "text": [
      "A :  [[ 0.99999279  0.99999851]]\n",
      "Z :  [[ 11.84  13.42]]\n"
     ]
    }
   ],
   "source": [
    "X = np.array([[1, 2],[3, 4]])\n",
    "W = np.array([[1.45, 0.13]])\n",
    "b = 10\n",
    "\n",
    "A,Z = forward_prop(X,W,b)\n",
    "\n",
    "print('A : ',A)\n",
    "print('Z : ',Z)"
   ]
  },
  {
   "cell_type": "raw",
   "metadata": {},
   "source": [
    "You must get:\n",
    "A :  [[ 0.99999279  0.99999851]]\n",
    "Z :  [[ 11.84  13.42]]"
   ]
  },
  {
   "cell_type": "markdown",
   "metadata": {},
   "source": [
    "### Compute Cost\n",
    "Remember computing cost is an important step to make sure your gradient descent algorithm is converging. <br/>\n",
    "\n",
    "##### Formula for cost function is,\n",
    "$$\n",
    "    J(W,b) =-1/m  ∑_i( y(i) * log( a(i) ) + ( 1 - y(i) ) * log( 1 - a(i) ) \n",
    "$$\n",
    "<br/>\n",
    "##### Remember to vectorize this\n",
    "Complete the following function.\n",
    "\n",
    "**Hint: ** Use np.dot() for matrix multiplication and np.log() for log value"
   ]
  },
  {
   "cell_type": "code",
   "execution_count": 9,
   "metadata": {
    "collapsed": true
   },
   "outputs": [],
   "source": [
    "def compute_cost(A, Y):\n",
    "    '''\n",
    "    This function returns the cost: average loss over the entire set\n",
    "    Input: A - (1,m) set of activations\n",
    "           Y - (1,m) set of target outputs\n",
    "    Output: Cost\n",
    "    '''\n",
    "    m = A.shape[1]\n",
    "    #print('1 ', np.log(A))\n",
    "    #print('2 ', np.log(1-A))\n",
    "    cost = (-1/m)*(np.dot(np.log(A),Y.T) + np.dot(np.log(1-A),(1-Y.T)))\n",
    "    # if cost is something like [[value]] use return np.squeeze(cost)\n",
    "    return np.squeeze(cost)"
   ]
  },
  {
   "cell_type": "markdown",
   "metadata": {},
   "source": [
    "Run the cell below to check if you've got it right."
   ]
  },
  {
   "cell_type": "code",
   "execution_count": 10,
   "metadata": {},
   "outputs": [
    {
     "name": "stdout",
     "output_type": "stream",
     "text": [
      "5.920021548331819\n"
     ]
    }
   ],
   "source": [
    "A = np.array([[ 0.99999279 , 0.99999851]])\n",
    "y = np.array([[0, 1]])\n",
    "\n",
    "c = compute_cost(A,y)\n",
    "print(c)"
   ]
  },
  {
   "cell_type": "raw",
   "metadata": {},
   "source": [
    "You must get\n",
    "5.92002154833"
   ]
  },
  {
   "cell_type": "markdown",
   "metadata": {},
   "source": [
    "### Back propagation\n",
    "\n",
    "Remember in back propagation we compute dZ, dW and db.\n",
    "<br/> Complete the following code."
   ]
  },
  {
   "cell_type": "code",
   "execution_count": 11,
   "metadata": {
    "collapsed": true
   },
   "outputs": [],
   "source": [
    "def back_prop(X, Y, forward_cache):\n",
    "    '''\n",
    "    This function implements backpropagation step mentioned in the session.\n",
    "    we want to compute dZ, dW, db\n",
    "    Input: X - (n,m) matrix\n",
    "           Y - (1,m) Output vector\n",
    "           forward_cache - tuple (A(1,m), Z(1,m))\n",
    "    Output: backward_cache - (dW, db)\n",
    "    '''\n",
    "    m = X.shape[1]\n",
    "    A = forward_cache[0]\n",
    "    #complete the following lines\n",
    "    dZ = A - Y\n",
    "    dW = np.dot(X,dZ.T).T/m\n",
    "    db = np.sum(dZ)/m\n",
    "    \n",
    "    backward_cache = (dW, db)\n",
    "    return backward_cache"
   ]
  },
  {
   "cell_type": "markdown",
   "metadata": {},
   "source": [
    "Run the cell below to check if you've got it right."
   ]
  },
  {
   "cell_type": "code",
   "execution_count": 12,
   "metadata": {},
   "outputs": [
    {
     "name": "stdout",
     "output_type": "stream",
     "text": [
      "A :  [[ 0.99999279  0.99999851]]\n",
      "Z :  [[ 11.84  13.42]]\n",
      "dW :  [[ 0.49999491  1.49998621]]\n",
      "db :  0.499995652306\n"
     ]
    }
   ],
   "source": [
    "X = np.array([[1, 2],[3, 4]])\n",
    "W = np.array([[1.45, 0.13]])\n",
    "b = 10\n",
    "Y = np.array([[0, 1]])\n",
    "\n",
    "f_c = forward_prop(X,W,b)\n",
    "(dW, db) = back_prop(X, Y, f_c)\n",
    "print('A : ',A)\n",
    "print('Z : ',Z)\n",
    "print('dW : ',dW)\n",
    "print('db : ',db)\n"
   ]
  },
  {
   "cell_type": "raw",
   "metadata": {},
   "source": [
    "You must get:\n",
    "A :  [[ 0.99999279  0.99999851]]\n",
    "Z :  [[ 11.84  13.42]]\n",
    "dW :  [[ 0.99998982  2.99997243]]\n",
    "db :  0.999991304612"
   ]
  },
  {
   "cell_type": "markdown",
   "metadata": {},
   "source": [
    "### Logistic regression on admission dataset\n",
    "\n",
    "Suppose that you are the administrator of a university department and\n",
    "you want to determine each applicant's chance of admission based on their\n",
    "results on two exams. You have historical data from previous applicants\n",
    "that you can use as a training set for logistic regression. For each training\n",
    "example, you have the applicant's scores on two exams and the admissions\n",
    "decision.\n",
    "Your task is to build a classi\f",
    "cation model that estimates an applicant's\n",
    "probability of admission based the scores from those two exams."
   ]
  },
  {
   "cell_type": "markdown",
   "metadata": {},
   "source": [
    "#### Let's get started by loading the data\n",
    "Run the below cell and you will be good to go"
   ]
  },
  {
   "cell_type": "code",
   "execution_count": 13,
   "metadata": {},
   "outputs": [
    {
     "data": {
      "text/plain": [
       "(2, 100)"
      ]
     },
     "execution_count": 13,
     "metadata": {},
     "output_type": "execute_result"
    }
   ],
   "source": [
    "dataset = pd.read_csv('exam.csv')\n",
    "y = np.array(dataset['y'])\n",
    "y = y.reshape((1,y.shape[0])) # reshaped to (1,m) m=100\n",
    "X = np.array([dataset['x1'],dataset['x2']]) #reshaped to (n,m) n=2, m=100\n",
    "X.shape"
   ]
  },
  {
   "cell_type": "markdown",
   "metadata": {},
   "source": [
    "#### Let us visualize dataset\n",
    "Run the cell below"
   ]
  },
  {
   "cell_type": "code",
   "execution_count": 14,
   "metadata": {},
   "outputs": [
    {
     "data": {
      "text/plain": [
       "<matplotlib.legend.Legend at 0xd5f05104e0>"
      ]
     },
     "execution_count": 14,
     "metadata": {},
     "output_type": "execute_result"
    },
    {
     "data": {
      "image/png": "[encoded data removed]",
      "text/plain": [
       "<matplotlib.figure.Figure at 0xd5ece08d68>"
      ]
     },
     "metadata": {},
     "output_type": "display_data"
    }
   ],
   "source": [
    "indicies = np.array([[i for i in range(y.shape[1])]])\n",
    "\n",
    "#class 0 examples\n",
    "class_zero = indicies[y==0]\n",
    "#class 1 examples\n",
    "class_one = indicies[y==1]\n",
    "\n",
    "plt.plot(X[0,class_zero],X[1,class_zero],'r_', label='Not admitted')\n",
    "plt.plot(X[0,class_one], X[1,class_one], 'b+', label = 'admitted')\n",
    "plt.title('Exam Data')\n",
    "plt.xlabel('exam 1')\n",
    "plt.ylabel('exam 2')\n",
    "plt.legend()"
   ]
  },
  {
   "cell_type": "markdown",
   "metadata": {},
   "source": [
    "#### Logistic regression model\n",
    "\n",
    "Complete the code lines in the following cell"
   ]
  },
  {
   "cell_type": "code",
   "execution_count": 15,
   "metadata": {
    "collapsed": true
   },
   "outputs": [],
   "source": [
    "def logistic_regression_model(X, y, iterations=1500, alpha = 0.001):\n",
    "    '''\n",
    "    This function implements the gradient descent optimization on cost function that you have coded.\n",
    "    Input: X - training X (n,m)\n",
    "           y - training output (1,m)\n",
    "           iterations: number of iterations of gradient descent (by default set to 1500)\n",
    "           alpha: learning rate (by default set to 0.01)\n",
    "    Output: learned parameters W,b\n",
    "    '''\n",
    "    \n",
    "    m = X.shape[1]\n",
    "    n = X.shape[0]\n",
    "    \n",
    "    #Initialize parameters (use the function you implemented)\n",
    "    W,b = initialize_params(X)\n",
    "    \n",
    "    #print(W, b)\n",
    "    #costs - list\n",
    "    costs = []\n",
    "    iters = []\n",
    "    \n",
    "    #Complete the following lines\n",
    "    #Gradient descent algorithm loop\n",
    "    for i in range(iterations):\n",
    "        \n",
    "        #forward propagation step. (use the function you already implemented)\n",
    "        forward_cache = forward_prop(X,W,b)\n",
    "        A = forward_cache[0]\n",
    "        Z = forward_cache[1]\n",
    "        \n",
    "        #print('Z - ',Z)\n",
    "        #print('A - ',A)\n",
    "        \n",
    "        #Compute cost\n",
    "        cost = compute_cost(A,y)\n",
    "        \n",
    "        costs.append(cost)\n",
    "        iters.append(i+1)\n",
    "        #print cost every 100 iterations\n",
    "        if (i+1)%100==0:\n",
    "            print('Cost after ',(i+1),' iterations: ',cost)\n",
    "            \n",
    "        #backward propagation step. (use the function you already implemented)\n",
    "        backward_cache = back_prop(X,y,forward_cache)\n",
    "        \n",
    "        dW = backward_cache[0]\n",
    "        db = backward_cache[1]\n",
    "        #print('dW - ',dW)\n",
    "        #print('db - ',db)\n",
    "        #Update parameters\n",
    "        #(gradient descent update rule)\n",
    "        W = W - (alpha * dW)\n",
    "        b = b - (alpha * db)\n",
    "        #print('W ',W)\n",
    "        #print('b', b)\n",
    "    return W,b,costs,iters"
   ]
  },
  {
   "cell_type": "markdown",
   "metadata": {},
   "source": [
    "#### Run the logistic model for the given dataset\n",
    "Run the cell given below"
   ]
  },
  {
   "cell_type": "code",
   "execution_count": 16,
   "metadata": {},
   "outputs": [
    {
     "name": "stdout",
     "output_type": "stream",
     "text": [
      "Cost after  100  iterations:  0.5733935847364559\n",
      "Cost after  200  iterations:  0.4967653811151946\n",
      "Cost after  300  iterations:  0.44560199095227293\n",
      "Cost after  400  iterations:  0.4094643825544129\n",
      "Cost after  500  iterations:  0.38268993233906584\n",
      "Cost after  600  iterations:  0.3620711093033571\n",
      "Cost after  700  iterations:  0.34569287144258726\n",
      "Cost after  800  iterations:  0.33235335562007334\n",
      "Cost after  900  iterations:  0.32126432354827134\n",
      "Cost after  1000  iterations:  0.3118887927384652\n",
      "Cost after  1100  iterations:  0.3038488197031603\n",
      "Cost after  1200  iterations:  0.296870827026892\n",
      "Cost after  1300  iterations:  0.29075191833313574\n",
      "Cost after  1400  iterations:  0.2853384042428166\n",
      "Cost after  1500  iterations:  0.28051169317796093\n",
      "[[ 1.56496775  1.40767345]] 0.581192521188\n"
     ]
    }
   ],
   "source": [
    "x = X.copy()\n",
    "x[0,:] = (x[0,:] - np.mean(x[0,:]))/np.std(x[0,:])\n",
    "x[1,:] = (x[1,:] - np.mean(x[1,:]))/np.std(x[1,:])\n",
    "W,b,costs,iters = logistic_regression_model(x, y, iterations=1500,alpha = 0.01)\n",
    "print(W,b)"
   ]
  },
  {
   "cell_type": "raw",
   "metadata": {},
   "source": [
    "You must get:\n",
    "Cost after  100  iterations:  0.21043453277059818\n",
    "Cost after  200  iterations:  0.20489382035120143\n",
    "Cost after  300  iterations:  0.20385873824204143\n",
    "Cost after  400  iterations:  0.20360044248226664\n",
    "[[ 3.8670477   3.60347302]] 1.65947664207"
   ]
  },
  {
   "cell_type": "markdown",
   "metadata": {},
   "source": [
    "#### Plot cost v/s iterations\n",
    "Run the cell below"
   ]
  },
  {
   "cell_type": "code",
   "execution_count": 17,
   "metadata": {},
   "outputs": [
    {
     "data": {
      "text/plain": [
       "[<matplotlib.lines.Line2D at 0xd5f0836c18>]"
      ]
     },
     "execution_count": 17,
     "metadata": {},
     "output_type": "execute_result"
    },
    {
     "data": {
      "image/png": "[encoded data removed]",
      "text/plain": [
       "<matplotlib.figure.Figure at 0xd5ece4e1d0>"
      ]
     },
     "metadata": {},
     "output_type": "display_data"
    }
   ],
   "source": [
    "plt.title('cost v/s iterations')\n",
    "plt.xlabel('iterations')\n",
    "plt.ylabel('cost J')\n",
    "plt.plot(iters,costs)"
   ]
  },
  {
   "cell_type": "markdown",
   "metadata": {},
   "source": [
    "**Observation**: The cost decreases  in every iteration.<br/>\n",
    "You can see that the change in cost after 200 iterations is almost negligible. Please feel free to change iterations and alpha value and observe the results"
   ]
  },
  {
   "cell_type": "markdown",
   "metadata": {},
   "source": [
    "#### Accuracy\n",
    "Let us write a function that tells us what percentage of training examples were correctly classified.<br/>Complete the following function"
   ]
  },
  {
   "cell_type": "code",
   "execution_count": 18,
   "metadata": {
    "collapsed": true
   },
   "outputs": [],
   "source": [
    "def get_accuracy(W,b,X,y):\n",
    "    '''\n",
    "    Function to determine accuracy in terms of percentage of correctly classified examples\n",
    "    Input: Learned parameters W, b\n",
    "           X - The set you want accuracy on\n",
    "           y - expected value\n",
    "    Output: Accuracy score\n",
    "    '''\n",
    "    \n",
    "    #First of all let us compute the value of A using the learned parameters W and b\n",
    "    #To do this call the forward_prop function that you implemented\n",
    "    #Complete the following line\n",
    "    A,Z = forward_prop(X,W,b)\n",
    "    \n",
    "    #Now let us use the following rule to assign classes to each example,\n",
    "    #if A >= 0.5 -> class 1\n",
    "    #if A< 0.5 -> class 0\n",
    "    #feel free to explore what is happening in the following lines\n",
    "    predicted = np.int32(A>=0.5)\n",
    "    difference = np.abs(y-predicted)\n",
    "    m = y.shape[1]\n",
    "    percentage_accuracy = (1 - (np.sum(difference)/m))*100\n",
    "    print('Accuracy: ',percentage_accuracy,'% ')   "
   ]
  },
  {
   "cell_type": "code",
   "execution_count": 19,
   "metadata": {},
   "outputs": [
    {
     "name": "stdout",
     "output_type": "stream",
     "text": [
      "Accuracy:  90.0 % \n"
     ]
    }
   ],
   "source": [
    "get_accuracy(W,b,x,y)"
   ]
  },
  {
   "cell_type": "raw",
   "metadata": {},
   "source": [
    "You must get:\n",
    "Accuracy:  89.0 % "
   ]
  },
  {
   "cell_type": "markdown",
   "metadata": {},
   "source": [
    "#### Plot decision boundary\n",
    "let us plot and see what our decision boundary looks like.\n",
    "<br/>\n",
    "##### Remember the equation of decision boundary is given by: \n",
    "$ \n",
    "w1 * x1 + w2 * x2 + b = 0\n",
    "$\n",
    "<br/>\n",
    "Which is same as\n",
    "$\n",
    "x2 = -(w1/w2) * x1 - (b/w2)\n",
    "$\n",
    "<br/>\n",
    "Which is of the form\n",
    "$\n",
    "y = mx + c\n",
    "$\n",
    "<br/>\n",
    "Run the cell below"
   ]
  },
  {
   "cell_type": "code",
   "execution_count": 20,
   "metadata": {},
   "outputs": [
    {
     "data": {
      "text/plain": [
       "[<matplotlib.lines.Line2D at 0xd5f08d4d68>]"
      ]
     },
     "execution_count": 20,
     "metadata": {},
     "output_type": "execute_result"
    },
    {
     "data": {
      "image/png": "[encoded data removed]",
      "text/plain": [
       "<matplotlib.figure.Figure at 0xd5f083f8d0>"
      ]
     },
     "metadata": {},
     "output_type": "display_data"
    }
   ],
   "source": [
    "#Note: here m referes to slope in y=mx+c\n",
    "m = -(W[0,0]/W[0,1])\n",
    "c = -(b/W[0,1])\n",
    "\n",
    "xs = np.array([i/10 for i in range(-20,21)])\n",
    "plt.title('Decision boundary')\n",
    "plt.ylabel('x2')\n",
    "plt.xlabel('x1')\n",
    "plt.plot(x[0,class_zero],x[1,class_zero],'r_', label='Not admitted')\n",
    "plt.plot(x[0,class_one], x[1,class_one], 'b+', label = 'admitted')\n",
    "plt.plot(xs, m*xs+c)"
   ]
  },
  {
   "cell_type": "markdown",
   "metadata": {},
   "source": [
    "## Congratulations on implementing logistic regression for binary classification\n",
    "###### Do explore multi-class classification using softmax activation"
   ]
  },
  {
   "cell_type": "markdown",
   "metadata": {},
   "source": [
    "### Thank you for your patience, Have a good day!"
   ]
  }
 ],
 "metadata": {
  "kernelspec": {
   "display_name": "Python 3",
   "language": "python",
   "name": "python3"
  },
  "language_info": {
   "codemirror_mode": {
    "name": "ipython",
    "version": 3
   },
   "file_extension": ".py",
   "mimetype": "text/x-python",
   "name": "python",
   "nbconvert_exporter": "python",
   "pygments_lexer": "ipython3",
   "version": "3.6.1"
  }
 },
 "nbformat": 4,
 "nbformat_minor": 2
}
