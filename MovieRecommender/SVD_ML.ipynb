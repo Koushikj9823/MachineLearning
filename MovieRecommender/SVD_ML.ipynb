{
 "cells": [
  {
   "cell_type": "markdown",
   "metadata": {},
   "source": [
    "# Movie Recommender System Using SVD "
   ]
  },
  {
   "cell_type": "markdown",
   "metadata": {},
   "source": [
    "This is an implementation of the example discussed under 11.3 in http://infolab.stanford.edu/~ullman/mmds/book.pdf\n"
   ]
  },
  {
   "cell_type": "code",
   "execution_count": 2,
   "metadata": {},
   "outputs": [
    {
     "name": "stdout",
     "output_type": "stream",
     "text": [
      "['X', ' Matrix', ' Alien', ' Star_wars', ' Csablanca', ' Titanic']\n",
      "['Joe', ' 1', '1', '1', '0', '0']\n",
      "['jim', ' 3', '3', '3', '0', '0']\n",
      "['john', '4', '4', '4', '0', '0']\n",
      "['jack', '5', '5', '5', '0', '0']\n",
      "['jill', ' 0', '0', '0', '4', '4']\n",
      "['jenny', ' 0', '0', '0', '5', '5']\n",
      "['jane', ' 0', '0', '0', '2', '2']\n"
     ]
    }
   ],
   "source": [
    "import csv\n",
    "import numpy as np\n",
    "dataset=list()\n",
    "fp=open('dataset.txt','r')\n",
    "reader = csv.reader(fp, delimiter=',')\n",
    "for row in reader:\n",
    "    print(row)\n",
    "    dataset.append(row)\n"
   ]
  },
  {
   "cell_type": "code",
   "execution_count": 3,
   "metadata": {},
   "outputs": [
    {
     "name": "stdout",
     "output_type": "stream",
     "text": [
      "[[1 1 1 0 0]\n",
      " [3 3 3 0 0]\n",
      " [4 4 4 0 0]\n",
      " [5 5 5 0 0]\n",
      " [0 0 0 4 4]\n",
      " [0 0 0 5 5]\n",
      " [0 0 0 2 2]]\n"
     ]
    }
   ],
   "source": [
    "#Convert the dataset into suitable form\n",
    "movies=list()\n",
    "users=list()\n",
    "for i in dataset[0]:\n",
    "    movies.append(i)\n",
    "for i in dataset:\n",
    "    users.append(i[0])\n",
    "movies.remove(\"X\")\n",
    "users.remove(\"X\")\n",
    "dataset.pop(0)          #Removing movie_names\n",
    "for i in dataset:       #Removing user_names\n",
    "    i.pop(0)       \n",
    "m=list(dataset)\n",
    "M=np.mat(m,dtype=int)\n",
    "print(M)"
   ]
  },
  {
   "cell_type": "code",
   "execution_count": 4,
   "metadata": {
    "collapsed": true
   },
   "outputs": [],
   "source": [
    "def SVD(M,dim):\n",
    "    Mt=np.transpose(M)\n",
    "    \n",
    "    #To Calculate U\n",
    "    prd=np.dot(M,Mt)\n",
    "    \n",
    "    #Eigen Value Decomposition\n",
    "    eigenvalue,eigenvec=np.linalg.eig(prd)\n",
    "    \n",
    "    #Indirect sort on eigenvalue to find out the proper indices, the same can \n",
    "    #be used with corresponding eigenvectors\n",
    "    sortindex=eigenvalue.argsort()[::-1]\n",
    "     \n",
    "    #Sort Eigen values\n",
    "    eigenvalue=eigenvalue[sortindex]    \n",
    "    \n",
    "    #Sort and reduce U to nXdim\n",
    "    U=eigenvec[:,sortindex]\n",
    "    U=U[:,0:dim]\n",
    "    U=np.real(U)\n",
    "    U=np.around(U,decimals=2)\n",
    "  \n",
    "     #To calculate sigma\n",
    "    sigma=np.sqrt(abs(eigenvalue))\n",
    "    \n",
    "    energy_den=np.sum(np.square(sigma))\n",
    "    sigma=sigma[0:dim]\n",
    "    energy_num=np.sum(np.square(sigma))\n",
    "    sigma=np.around(sigma,decimals=2)\n",
    "    \n",
    "    print(\"Energy= \",energy_num/energy_den)\n",
    "    \n",
    "    \n",
    "    #To Calculate V\n",
    "    prd=np.dot(Mt,M)\n",
    "    eigenvalue,eigenvec=np.linalg.eig(prd)\n",
    "    sortindex=eigenvalue.argsort()[::-1]\n",
    "    V=eigenvec[:,sortindex]\n",
    "    V=V[:,0:dim]\n",
    "    V=np.real(V)\n",
    "    V=np.around(V,decimals=2) \n",
    "    \n",
    "    \n",
    "    return U,sigma,V\n",
    " "
   ]
  },
  {
   "cell_type": "code",
   "execution_count": 5,
   "metadata": {},
   "outputs": [
    {
     "name": "stdout",
     "output_type": "stream",
     "text": [
      "[3 1 2]\n",
      "Sorted indices: [1 2 0]\n",
      "[1 2 3]\n"
     ]
    }
   ],
   "source": [
    "#TO ILLUSTRATE WORKING OF Argsort\n",
    "x = np.array([3, 1, 2])\n",
    "print(x)\n",
    "indices=np.argsort(x)\n",
    "print('Sorted indices:', indices)\n",
    "x=x[indices]\n",
    "print(x)"
   ]
  },
  {
   "cell_type": "code",
   "execution_count": 6,
   "metadata": {},
   "outputs": [
    {
     "name": "stdout",
     "output_type": "stream",
     "text": [
      "Energy=  1.0\n",
      "U  [[-0.14  0.  ]\n",
      " [-0.42  0.  ]\n",
      " [-0.56  0.  ]\n",
      " [-0.7   0.  ]\n",
      " [ 0.    0.6 ]\n",
      " [ 0.    0.75]\n",
      " [ 0.    0.3 ]]\n",
      "---------------------------------------\n",
      "sigma  [ 12.37   9.49]\n",
      "---------------------------------------\n",
      "Vt  [[ 0.58  0.58  0.58  0.    0.  ]\n",
      " [ 0.    0.    0.    0.71  0.71]]\n",
      "---------------------------------------\n"
     ]
    }
   ],
   "source": [
    "U,sigma,V=SVD(M,2)\n",
    "\n",
    "\n",
    "print(\"U \", U)\n",
    "print(\"---------------------------------------\")\n",
    "print(\"sigma \", sigma)\n",
    "print(\"---------------------------------------\")\n",
    "print(\"Vt \", V.transpose())\n",
    "print(\"---------------------------------------\")\n"
   ]
  },
  {
   "cell_type": "markdown",
   "metadata": {},
   "source": [
    "**Expected Output:**\n",
    "\n",
    "**Energy**=  1.0\n",
    "\n",
    "**U** = [[-0.14  0.  ]\n",
    " [-0.42  0.  ]\n",
    " [-0.56  0.  ]\n",
    " [-0.7   0.  ]\n",
    " [ 0.    0.6 ]\n",
    " [ 0.    0.75]\n",
    " [ 0.    0.3 ]]\n",
    "\n",
    "**sigma** = [ 12.37   9.49]\n",
    "\n",
    "**Vt** =  [[ 0.58  0.58  0.58  0.    0.  ]\n",
    " [ 0.    0.    0.    0.71  0.71]]\n"
   ]
  },
  {
   "cell_type": "code",
   "execution_count": 7,
   "metadata": {
    "collapsed": true
   },
   "outputs": [],
   "source": [
    "sigma=np.diag(sigma)\n",
    "M_SVD=np.dot(np.dot(U,sigma),V.transpose())"
   ]
  },
  {
   "cell_type": "code",
   "execution_count": 8,
   "metadata": {},
   "outputs": [
    {
     "data": {
      "text/plain": [
       "array([[ 1.004444,  1.004444,  1.004444,  0.      ,  0.      ],\n",
       "       [ 3.013332,  3.013332,  3.013332,  0.      ,  0.      ],\n",
       "       [ 4.017776,  4.017776,  4.017776,  0.      ,  0.      ],\n",
       "       [ 5.02222 ,  5.02222 ,  5.02222 ,  0.      ,  0.      ],\n",
       "       [ 0.      ,  0.      ,  0.      ,  4.04274 ,  4.04274 ],\n",
       "       [ 0.      ,  0.      ,  0.      ,  5.053425,  5.053425],\n",
       "       [ 0.      ,  0.      ,  0.      ,  2.02137 ,  2.02137 ]])"
      ]
     },
     "execution_count": 8,
     "metadata": {},
     "output_type": "execute_result"
    }
   ],
   "source": [
    "np.abs(M_SVD)"
   ]
  },
  {
   "cell_type": "code",
   "execution_count": 9,
   "metadata": {},
   "outputs": [
    {
     "data": {
      "text/plain": [
       "matrix([[1, 1, 1, 0, 0],\n",
       "        [3, 3, 3, 0, 0],\n",
       "        [4, 4, 4, 0, 0],\n",
       "        [5, 5, 5, 0, 0],\n",
       "        [0, 0, 0, 4, 4],\n",
       "        [0, 0, 0, 5, 5],\n",
       "        [0, 0, 0, 2, 2]])"
      ]
     },
     "execution_count": 9,
     "metadata": {},
     "output_type": "execute_result"
    }
   ],
   "source": [
    "M"
   ]
  },
  {
   "cell_type": "code",
   "execution_count": 10,
   "metadata": {
    "collapsed": true
   },
   "outputs": [],
   "source": [
    "def query(q,V):\n",
    "    prd=np.dot(q,V)\n",
    "    Vt=np.transpose(V)\n",
    "    print(abs(prd))\n",
    "    other=np.dot(prd,Vt)\n",
    "    print(abs(other))\n",
    "    return"
   ]
  },
  {
   "cell_type": "code",
   "execution_count": 11,
   "metadata": {},
   "outputs": [
    {
     "name": "stdout",
     "output_type": "stream",
     "text": [
      "[ 2.32  0.  ]\n",
      "[ 1.3456  1.3456  1.3456  0.      0.    ]\n"
     ]
    }
   ],
   "source": [
    "query([4,0,0,0,0],V)"
   ]
  },
  {
   "cell_type": "code",
   "execution_count": null,
   "metadata": {
    "collapsed": true
   },
   "outputs": [],
   "source": []
  }
 ],
 "metadata": {
  "kernelspec": {
   "display_name": "Python 3",
   "language": "python",
   "name": "python3"
  },
  "language_info": {
   "codemirror_mode": {
    "name": "ipython",
    "version": 3
   },
   "file_extension": ".py",
   "mimetype": "text/x-python",
   "name": "python",
   "nbconvert_exporter": "python",
   "pygments_lexer": "ipython3",
   "version": "3.6.1"
  }
 },
 "nbformat": 4,
 "nbformat_minor": 2
}
